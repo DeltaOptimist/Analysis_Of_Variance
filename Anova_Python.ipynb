{
  "nbformat": 4,
  "nbformat_minor": 0,
  "metadata": {
    "colab": {
      "name": "Anova_Python.ipynb",
      "provenance": []
    },
    "kernelspec": {
      "name": "python3",
      "display_name": "Python 3"
    }
  },
  "cells": [
    {
      "cell_type": "markdown",
      "metadata": {
        "id": "PkY7QKZW9esP"
      },
      "source": [
        "ANOVA (Analysis of Variance) is a method for generalizing of previous discussion regarding statistical tests to multiple groups. \r\n",
        "\r\n",
        "As we will see, ANOVA then partitions our total sum of square of deviations (from the mean) into sum of squares for each of these groups and sum of squares for error."
      ]
    },
    {
      "cell_type": "markdown",
      "metadata": {
        "id": "CPYr3tDS9m22"
      },
      "source": [
        "You will be able to:\r\n",
        "\r\n",
        "Use ANOVA for testing multiple pairwise comparisons.\r\n",
        "\r\n",
        "Understand and explain the methodology behind ANOVA tests"
      ]
    },
    {
      "cell_type": "markdown",
      "metadata": {
        "id": "TXo-w7-h92o6"
      },
      "source": [
        "- Again ANOVA generalizes our procedures to test differences, such as in the mean of populations, between multiple groups. \r\n",
        "\r\n",
        "- We start with sample observations from multiple groups. \r\n",
        "- Since ANOVA is looking to explain the total variance as combinations of variance from the various groups, we typically design a multiple groups experiment to test various independent factors that we hypothesis may influence the overall result. \r\n",
        "\r\n",
        "\r\n",
        "\r\n",
        "For example, in our A/B testing example of email templates, we could use ANOVA to simultaneously compare the effectiveness of various template changes. \r\n",
        "\r\n",
        "The control group could be our original template, and successive groups would have one specific change from that control template. \r\n",
        "\r\n",
        "The first group might have a new Subject line but an identical email. \r\n",
        "\r\n",
        "Another might have the original subject line but a new greeting within the body of the email. \r\n",
        "\r\n",
        "Once we have sample observations from each of these templates, we can then use ANOVA to analyze and compare their effectiveness."
      ]
    },
    {
      "cell_type": "markdown",
      "metadata": {
        "id": "rSVo60hd-Vwh"
      },
      "source": [
        "- The general idea is to break the sum of square of deviations into multiple parts: the sum of squares of deviations of the mean of each of these test groups to the observations within the group itself, and the sum of squares of deviations of the mean of these test groups to the mean of all observations."
      ]
    },
    {
      "cell_type": "markdown",
      "metadata": {
        "id": "OsF7gbSg-h5P"
      },
      "source": [
        "Now let's return to our example to illustrate this. \r\n",
        "\r\n",
        "ANOVA is looking to describe overall variation from all of our sample observations. \r\n",
        "\r\n",
        "The theoretical motivation is that we are looking to break the overall variation apart as a combination of the variation from each of these individual factors as well as unaccounted for error or chance.\r\n",
        "\r\n",
        "**In our email example**, we will expect response variation from the people themselves, and while **we may break apart our participants into demographic** **groups**, forming **additional groups within our ANOVA test**, there will continue to be variation within the groups themselves.\r\n",
        "\r\n",
        "\r\n",
        "- After decomposing total variance \r\n",
        "\r\n",
        "AS \r\n",
        "\r\n",
        "**variance of the individual factors** to their group mean (sum of square for treatments SST)\r\n",
        "\r\n",
        "AND \r\n",
        "\r\n",
        "**variance of these groups to the overall mean** (sum of square for error SSE), we can compare ***these quantities using an f-distribution***, which becomes our test statistic.\r\n",
        "\r\n",
        "\r\n",
        "**Higher values of the F-statistic** indicate a **higher probability** of that factor being influential.\r\n",
        "\r\n",
        "**Let us keep a criteria to accept things if the vlaue is over and above 0.50** \r\n",
        "\r\n",
        "lets us say our $\\alpha$ value is 0.50\r\n"
      ]
    },
    {
      "cell_type": "markdown",
      "metadata": {
        "id": "se8AQ1rXAFFI"
      },
      "source": [
        ""
      ]
    },
    {
      "cell_type": "markdown",
      "metadata": {
        "id": "cQQ1g7s_AT4B"
      },
      "source": [
        "**Generating an ANOVA Table (AOV) in Python**"
      ]
    },
    {
      "cell_type": "code",
      "metadata": {
        "id": "4IEfzM_x-gUZ"
      },
      "source": [
        "import pandas as pd\r\n",
        "#import statsmodels.api as sm\r\n",
        "import pandas.util.testing as tm\r\n",
        "from statsmodels.formula.api import ols"
      ],
      "execution_count": 3,
      "outputs": []
    },
    {
      "cell_type": "markdown",
      "metadata": {
        "id": "HcY4mvQeBWPk"
      },
      "source": [
        "As usual, we start by loading in a dataset of our sample observations. This particular table is of salaries in IT and has 4 columns:\r\n",
        "\r\n",
        "S - the individuals salary\r\n",
        "\r\n",
        "X - years of experience\r\n",
        "\r\n",
        "E - education level (1-Bachelors, 2-Masters, 3-PHD)\r\n",
        "\r\n",
        "M - management (0-no management, 1-yes management)"
      ]
    },
    {
      "cell_type": "code",
      "metadata": {
        "colab": {
          "base_uri": "https://localhost:8080/",
          "height": 195
        },
        "id": "gKbAO-CdAbU1",
        "outputId": "58d7e3df-7c36-4f29-f359-fdecf356654b"
      },
      "source": [
        "df = pd.read_csv('/content/IT_salaries.csv')\r\n",
        "df.head()"
      ],
      "execution_count": 4,
      "outputs": [
        {
          "output_type": "execute_result",
          "data": {
            "text/html": [
              "<div>\n",
              "<style scoped>\n",
              "    .dataframe tbody tr th:only-of-type {\n",
              "        vertical-align: middle;\n",
              "    }\n",
              "\n",
              "    .dataframe tbody tr th {\n",
              "        vertical-align: top;\n",
              "    }\n",
              "\n",
              "    .dataframe thead th {\n",
              "        text-align: right;\n",
              "    }\n",
              "</style>\n",
              "<table border=\"1\" class=\"dataframe\">\n",
              "  <thead>\n",
              "    <tr style=\"text-align: right;\">\n",
              "      <th></th>\n",
              "      <th>S</th>\n",
              "      <th>X</th>\n",
              "      <th>E</th>\n",
              "      <th>M</th>\n",
              "    </tr>\n",
              "  </thead>\n",
              "  <tbody>\n",
              "    <tr>\n",
              "      <th>0</th>\n",
              "      <td>13876</td>\n",
              "      <td>1</td>\n",
              "      <td>1</td>\n",
              "      <td>1</td>\n",
              "    </tr>\n",
              "    <tr>\n",
              "      <th>1</th>\n",
              "      <td>11608</td>\n",
              "      <td>1</td>\n",
              "      <td>3</td>\n",
              "      <td>0</td>\n",
              "    </tr>\n",
              "    <tr>\n",
              "      <th>2</th>\n",
              "      <td>18701</td>\n",
              "      <td>1</td>\n",
              "      <td>3</td>\n",
              "      <td>1</td>\n",
              "    </tr>\n",
              "    <tr>\n",
              "      <th>3</th>\n",
              "      <td>11283</td>\n",
              "      <td>1</td>\n",
              "      <td>2</td>\n",
              "      <td>0</td>\n",
              "    </tr>\n",
              "    <tr>\n",
              "      <th>4</th>\n",
              "      <td>11767</td>\n",
              "      <td>1</td>\n",
              "      <td>3</td>\n",
              "      <td>0</td>\n",
              "    </tr>\n",
              "  </tbody>\n",
              "</table>\n",
              "</div>"
            ],
            "text/plain": [
              "       S  X  E  M\n",
              "0  13876  1  1  1\n",
              "1  11608  1  3  0\n",
              "2  18701  1  3  1\n",
              "3  11283  1  2  0\n",
              "4  11767  1  3  0"
            ]
          },
          "metadata": {
            "tags": []
          },
          "execution_count": 4
        }
      ]
    },
    {
      "cell_type": "markdown",
      "metadata": {
        "id": "zwQ7qJsbBhqY"
      },
      "source": [
        "Generating the ANOVA Table:\r\n",
        "\r\n",
        "\r\n",
        "In order to generate the ANOVA table, we will fit a model and then generate the table from this object. \r\n",
        "\r\n",
        "The syntax for defining the model is a little different then what we've seen previously. Our formula will be written as:\r\n",
        "\r\n",
        "**Control_Column ~ C(factor_col1) + factor_col2 + C(factor_col3) + ... + X**\r\n",
        "\r\n",
        "\r\n",
        "We indicate categorical variables by wrapping them with C()"
      ]
    },
    {
      "cell_type": "code",
      "metadata": {
        "colab": {
          "base_uri": "https://localhost:8080/"
        },
        "id": "5QDxkhASBdYS",
        "outputId": "62e31466-bdd0-46b8-f29e-37ea210a3b7c"
      },
      "source": [
        "formula = 'S ~ C(E) + C(M) + X'\r\n",
        "lm = ols(formula, df).fit()\r\n",
        "table = sm.stats.anova_lm(lm, typ=2)\r\n",
        "print(table)"
      ],
      "execution_count": 5,
      "outputs": [
        {
          "output_type": "stream",
          "text": [
            "                sum_sq    df           F        PR(>F)\n",
            "C(E)      9.152624e+07   2.0   43.351589  7.672450e-11\n",
            "C(M)      5.075724e+08   1.0  480.825394  2.901444e-24\n",
            "X         3.380979e+08   1.0  320.281524  5.546313e-21\n",
            "Residual  4.328072e+07  41.0         NaN           NaN\n"
          ],
          "name": "stdout"
        }
      ]
    },
    {
      "cell_type": "markdown",
      "metadata": {
        "id": "WVX6FJKbCI0r"
      },
      "source": [
        "Reading the Table:\r\n",
        "\r\n",
        "For now we will simply focus on the outermost columns. \r\n",
        "\r\n",
        "On the left, you can see our various groups, and on the right, the probability that the factor is indeed influential. \r\n",
        "\r\n",
        "Values < .05 (or whatever we set $\\alpha$ to) indicate rejection of the null hypothesis. \r\n",
        "\r\n",
        "In this case, we can see **all three factors appear influential**, with **management being the potentially most significant**, followed by years experience and finally, educational degree."
      ]
    },
    {
      "cell_type": "code",
      "metadata": {
        "id": "cJ7iv6-SCE8b"
      },
      "source": [
        ""
      ],
      "execution_count": null,
      "outputs": []
    }
  ]
}